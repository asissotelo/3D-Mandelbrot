{
 "cells": [
  {
   "cell_type": "markdown",
   "metadata": {},
   "source": [
    "# Jupyter Notebook for Testing Mandelbrot Code "
   ]
  },
  {
   "cell_type": "markdown",
   "metadata": {},
   "source": [
    "### Asis A Sotelo\n",
    "### 24Jul2019 Creation of Notebook"
   ]
  },
  {
   "cell_type": "markdown",
   "metadata": {},
   "source": [
    "#### In order to create the following I researched a couple of articles of the mathematics of complex numbers including utilizing a method created in 2009 where the mandelbrot set was turned the Mandelbulb set that utilized polar coordinates and initiated the following  z_n+1"
   ]
  },
  {
   "cell_type": "code",
   "execution_count": 5,
   "metadata": {},
   "outputs": [],
   "source": [
    "import numpy as np\n",
    "import matplotlib.pyplot as plt\n"
   ]
  },
  {
   "cell_type": "markdown",
   "metadata": {},
   "source": [
    "## We define the function for the mandelbrot plot here the c stands for a point in 3D space (x,y,z)"
   ]
  },
  {
   "cell_type": "code",
   "execution_count": 7,
   "metadata": {},
   "outputs": [],
   "source": [
    "\n",
    "\n",
    "def mandelbrot(c, thresh = 2, max_iter = 32):\n",
    "    \n",
    "    z = c # Define z = c in order to iterate over z\n",
    "    \n",
    "    for i in range(max_iter): # Creates loop to begin iterating over the equation\n",
    "        \n",
    "        if np.abs(z)>threshold: # If the iteration goes over a certain threshold typically 2 then the function will diverge \n",
    "            return i            # Return the value of i where function crossed threshold these are called the escape value\n",
    "        z = (z * z) + c         # Execute the function and continue the iteration\n",
    "        \n",
    "    return 0                # If loop goes through all of the iteration without diverging than it coverges and return 0\n",
    "\n",
    "\n",
    "        \n",
    "        "
   ]
  },
  {
   "cell_type": "markdown",
   "metadata": {},
   "source": [
    "## In order to define complex numbers in 3D space I will use polar formulas. r = sqrt(x^2 + y^2 +z^2) , theta = arctan((sqrt(x^2 +y^2)/x)), and phi = arctan(x/y)\n",
    "\n"
   ]
  },
  {
   "cell_type": "markdown",
   "metadata": {},
   "source": [
    "#### The equivalent formula will be v_(n+1) = v^(p)_(n) + c, where c = (x,y,z). We will use the power of p to be 8 according t"
   ]
  },
  {
   "cell_type": "markdown",
   "metadata": {},
   "source": []
  }
 ],
 "metadata": {
  "kernelspec": {
   "display_name": "Python 3",
   "language": "python",
   "name": "python3"
  },
  "language_info": {
   "codemirror_mode": {
    "name": "ipython",
    "version": 3
   },
   "file_extension": ".py",
   "mimetype": "text/x-python",
   "name": "python",
   "nbconvert_exporter": "python",
   "pygments_lexer": "ipython3",
   "version": "3.7.0"
  }
 },
 "nbformat": 4,
 "nbformat_minor": 2
}
